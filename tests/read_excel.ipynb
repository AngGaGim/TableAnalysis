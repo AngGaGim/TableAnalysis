{
 "cells": [
  {
   "metadata": {},
   "cell_type": "markdown",
   "source": [
    "```\n",
    "        origin_df = pd.read_excel(file_path,nrows=10,header=None,sheet_name=sheet_name)\n",
    "\n",
    "```\n",
    "当前表格提取多sheet表头采用遍历方式\n",
    "验证是否只需转换/执行一次origin_df，再指定sheet_name\n"
   ],
   "id": "d4c34f84b345d547"
  }
 ],
 "metadata": {
  "kernelspec": {
   "display_name": "Python 3",
   "language": "python",
   "name": "python3"
  },
  "language_info": {
   "codemirror_mode": {
    "name": "ipython",
    "version": 2
   },
   "file_extension": ".py",
   "mimetype": "text/x-python",
   "name": "python",
   "nbconvert_exporter": "python",
   "pygments_lexer": "ipython2",
   "version": "2.7.6"
  }
 },
 "nbformat": 4,
 "nbformat_minor": 5
}
