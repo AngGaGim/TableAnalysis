{
 "cells": [
  {
   "metadata": {},
   "cell_type": "markdown",
   "source": [
    "```\n",
    "        origin_df = pd.read_excel(file_path,nrows=10,header=None,sheet_name=sheet_name)\n",
    "\n",
    "```\n",
    "当前表格提取多sheet表头采用遍历方式\n",
    "验证是否只需转换/执行一次origin_df，再指定sheet_name\n"
   ],
   "id": "d4c34f84b345d547"
  },
  {
   "metadata": {
    "ExecuteTime": {
     "end_time": "2025-01-08T09:42:42.584203Z",
     "start_time": "2025-01-08T09:42:42.577207Z"
    }
   },
   "cell_type": "code",
   "source": "filepath  = r\"E:\\表格解析\\data\\财务报表.xlsx\"",
   "id": "4c41b8e5d3a62f40",
   "outputs": [],
   "execution_count": 7
  },
  {
   "metadata": {
    "ExecuteTime": {
     "end_time": "2025-01-08T09:42:43.408742Z",
     "start_time": "2025-01-08T09:42:43.243744Z"
    }
   },
   "cell_type": "code",
   "source": [
    "import pandas  as pd\n",
    "\n",
    "df =pd.ExcelFile(filepath)"
   ],
   "id": "f7c4704866415ddc",
   "outputs": [],
   "execution_count": 8
  },
  {
   "metadata": {
    "ExecuteTime": {
     "end_time": "2025-01-08T09:07:45.010301Z",
     "start_time": "2025-01-08T09:07:44.987494Z"
    }
   },
   "cell_type": "code",
   "source": "df.sheet_names",
   "id": "1bad4a802e262412",
   "outputs": [
    {
     "data": {
      "text/plain": [
       "['收入表',\n",
       " '支出表',\n",
       " '运营数据表',\n",
       " '收支数据统计',\n",
       " '账户及科目设置',\n",
       " '数据汇总看板',\n",
       " '2021年利润分析表',\n",
       " '2022年利润分析表',\n",
       " '2023年利润分析表',\n",
       " '2024年利润分析表',\n",
       " '收支表']"
      ]
     },
     "execution_count": 3,
     "metadata": {},
     "output_type": "execute_result"
    }
   ],
   "execution_count": 3
  },
  {
   "metadata": {
    "ExecuteTime": {
     "end_time": "2025-01-08T09:42:50.749306Z",
     "start_time": "2025-01-08T09:42:50.615311Z"
    }
   },
   "cell_type": "code",
   "source": [
    "\n",
    "# 读取指定的 sheet 数据，假设要读取名为 \"Sheet1\" 的表\n",
    "df1= df.parse('收入表', nrows=10, header=None)"
   ],
   "id": "7383885ff2bd596b",
   "outputs": [
    {
     "name": "stderr",
     "output_type": "stream",
     "text": [
      "d:\\python\\lib\\site-packages\\openpyxl\\worksheet\\_reader.py:312: UserWarning: Data Validation extension is not supported and will be removed\n",
      "  warn(msg)\n"
     ]
    }
   ],
   "execution_count": 10
  },
  {
   "metadata": {
    "ExecuteTime": {
     "end_time": "2025-01-08T09:34:42.207372Z",
     "start_time": "2025-01-08T09:34:41.143585Z"
    }
   },
   "cell_type": "code",
   "source": [
    "# 测试ExcelFile读取csv\n",
    "import pandas as pd\n",
    "\n",
    "filepath = r\"E:\\表格解析\\data\\产品销量表.csv\"\n",
    "pd = pd.ExcelFile(filepath)"
   ],
   "id": "7d91b43e63a4039c",
   "outputs": [
    {
     "ename": "ValueError",
     "evalue": "Excel file format cannot be determined, you must specify an engine manually.",
     "output_type": "error",
     "traceback": [
      "\u001B[1;31m---------------------------------------------------------------------------\u001B[0m",
      "\u001B[1;31mValueError\u001B[0m                                Traceback (most recent call last)",
      "\u001B[1;32m~\\AppData\\Local\\Temp\\ipykernel_9996\\2456554403.py\u001B[0m in \u001B[0;36m<module>\u001B[1;34m\u001B[0m\n\u001B[0;32m      3\u001B[0m \u001B[1;33m\u001B[0m\u001B[0m\n\u001B[0;32m      4\u001B[0m \u001B[0mfilepath\u001B[0m \u001B[1;33m=\u001B[0m \u001B[1;34mr\"E:\\表格解析\\data\\产品销量表.csv\"\u001B[0m\u001B[1;33m\u001B[0m\u001B[1;33m\u001B[0m\u001B[0m\n\u001B[1;32m----> 5\u001B[1;33m \u001B[0mpd\u001B[0m \u001B[1;33m=\u001B[0m \u001B[0mpd\u001B[0m\u001B[1;33m.\u001B[0m\u001B[0mExcelFile\u001B[0m\u001B[1;33m(\u001B[0m\u001B[0mfilepath\u001B[0m\u001B[1;33m)\u001B[0m\u001B[1;33m\u001B[0m\u001B[1;33m\u001B[0m\u001B[0m\n\u001B[0m",
      "\u001B[1;32md:\\python\\lib\\site-packages\\pandas\\io\\excel\\_base.py\u001B[0m in \u001B[0;36m__init__\u001B[1;34m(self, path_or_buffer, engine, storage_options)\u001B[0m\n\u001B[0;32m   1378\u001B[0m                 )\n\u001B[0;32m   1379\u001B[0m                 \u001B[1;32mif\u001B[0m \u001B[0mext\u001B[0m \u001B[1;32mis\u001B[0m \u001B[1;32mNone\u001B[0m\u001B[1;33m:\u001B[0m\u001B[1;33m\u001B[0m\u001B[1;33m\u001B[0m\u001B[0m\n\u001B[1;32m-> 1380\u001B[1;33m                     raise ValueError(\n\u001B[0m\u001B[0;32m   1381\u001B[0m                         \u001B[1;34m\"Excel file format cannot be determined, you must specify \"\u001B[0m\u001B[1;33m\u001B[0m\u001B[1;33m\u001B[0m\u001B[0m\n\u001B[0;32m   1382\u001B[0m                         \u001B[1;34m\"an engine manually.\"\u001B[0m\u001B[1;33m\u001B[0m\u001B[1;33m\u001B[0m\u001B[0m\n",
      "\u001B[1;31mValueError\u001B[0m: Excel file format cannot be determined, you must specify an engine manually."
     ]
    }
   ],
   "execution_count": 6
  }
 ],
 "metadata": {
  "kernelspec": {
   "display_name": "Python 3",
   "language": "python",
   "name": "python3"
  },
  "language_info": {
   "codemirror_mode": {
    "name": "ipython",
    "version": 2
   },
   "file_extension": ".py",
   "mimetype": "text/x-python",
   "name": "python",
   "nbconvert_exporter": "python",
   "pygments_lexer": "ipython2",
   "version": "2.7.6"
  }
 },
 "nbformat": 4,
 "nbformat_minor": 5
}
