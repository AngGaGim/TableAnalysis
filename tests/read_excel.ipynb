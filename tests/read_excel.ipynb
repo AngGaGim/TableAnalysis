{
 "cells": [
  {
   "metadata": {},
   "cell_type": "markdown",
   "source": [
    "```\n",
    "        origin_df = pd.read_excel(file_path,nrows=10,header=None,sheet_name=sheet_name)\n",
    "\n",
    "```\n",
    "当前表格提取多sheet表头采用遍历方式\n",
    "验证是否只需转换/执行一次origin_df，再指定sheet_name\n"
   ],
   "id": "d4c34f84b345d547"
  },
  {
   "metadata": {
    "ExecuteTime": {
     "end_time": "2025-01-08T09:07:33.678796Z",
     "start_time": "2025-01-08T09:07:33.659800Z"
    }
   },
   "cell_type": "code",
   "source": "filepath  = r\"E:\\表格解析\\data\\财务报表.xlsx\"",
   "id": "4c41b8e5d3a62f40",
   "outputs": [],
   "execution_count": 1
  },
  {
   "metadata": {
    "ExecuteTime": {
     "end_time": "2025-01-08T09:07:39.510751Z",
     "start_time": "2025-01-08T09:07:37.713139Z"
    }
   },
   "cell_type": "code",
   "source": [
    "import pandas  as pd\n",
    "\n",
    "df =pd.ExcelFile(filepath)"
   ],
   "id": "f7c4704866415ddc",
   "outputs": [],
   "execution_count": 2
  },
  {
   "metadata": {
    "ExecuteTime": {
     "end_time": "2025-01-08T09:07:45.010301Z",
     "start_time": "2025-01-08T09:07:44.987494Z"
    }
   },
   "cell_type": "code",
   "source": "df.sheet_names",
   "id": "1bad4a802e262412",
   "outputs": [
    {
     "data": {
      "text/plain": [
       "['收入表',\n",
       " '支出表',\n",
       " '运营数据表',\n",
       " '收支数据统计',\n",
       " '账户及科目设置',\n",
       " '数据汇总看板',\n",
       " '2021年利润分析表',\n",
       " '2022年利润分析表',\n",
       " '2023年利润分析表',\n",
       " '2024年利润分析表',\n",
       " '收支表']"
      ]
     },
     "execution_count": 3,
     "metadata": {},
     "output_type": "execute_result"
    }
   ],
   "execution_count": 3
  },
  {
   "metadata": {
    "ExecuteTime": {
     "end_time": "2025-01-08T09:09:40.388367Z",
     "start_time": "2025-01-08T09:09:40.244847Z"
    }
   },
   "cell_type": "code",
   "source": [
    "\n",
    "# 读取指定的 sheet 数据，假设要读取名为 \"Sheet1\" 的表\n",
    "df.parse('收入表', nrows=10, header=None)"
   ],
   "id": "7383885ff2bd596b",
   "outputs": [
    {
     "name": "stderr",
     "output_type": "stream",
     "text": [
      "d:\\python\\lib\\site-packages\\openpyxl\\worksheet\\_reader.py:312: UserWarning: Data Validation extension is not supported and will be removed\n",
      "  warn(msg)\n"
     ]
    },
    {
     "data": {
      "text/plain": [
       "       0      1                    2      3    4    5     6      7  \\\n",
       "0    NaN    NaN                收入明细表    NaN  NaN  NaN   NaN    NaN   \n",
       "1    NaN    NaN                  NaN    NaN  NaN  NaN   NaN    NaN   \n",
       "2    NaN    NaN                  NaN    NaN  NaN  NaN   NaN    USD   \n",
       "3    NaN    NaN                  NaN    NaN  NaN  NaN   NaN    CNY   \n",
       "4    NaN    NaN                  NaN    NaN   汇率  7.1  收入总计    NaN   \n",
       "5  索引(年)  索引(月)                   日期     收入  NaN  NaN   NaN     账户   \n",
       "6    NaN    NaN                  NaN     科目   明细   币种  收入金额    NaN   \n",
       "7   2021     11  2021-11-17 00:00:00  营业外收入  往来款  CNY   300  交通CNY   \n",
       "8   2021     11  2021-11-17 00:00:00  营业外收入  往来款  CNY     1  个账CNY   \n",
       "9   2021     11  2021-11-17 00:00:00  营业外收入  往来款  CNY     2  个账CNY   \n",
       "\n",
       "              8  \n",
       "0           NaN  \n",
       "1           NaN  \n",
       "2    1785223.69  \n",
       "3   15755047.41  \n",
       "4  28430135.609  \n",
       "5            备注  \n",
       "6           NaN  \n",
       "7           NaN  \n",
       "8           NaN  \n",
       "9           NaN  "
      ],
      "text/html": [
       "<div>\n",
       "<style scoped>\n",
       "    .dataframe tbody tr th:only-of-type {\n",
       "        vertical-align: middle;\n",
       "    }\n",
       "\n",
       "    .dataframe tbody tr th {\n",
       "        vertical-align: top;\n",
       "    }\n",
       "\n",
       "    .dataframe thead th {\n",
       "        text-align: right;\n",
       "    }\n",
       "</style>\n",
       "<table border=\"1\" class=\"dataframe\">\n",
       "  <thead>\n",
       "    <tr style=\"text-align: right;\">\n",
       "      <th></th>\n",
       "      <th>0</th>\n",
       "      <th>1</th>\n",
       "      <th>2</th>\n",
       "      <th>3</th>\n",
       "      <th>4</th>\n",
       "      <th>5</th>\n",
       "      <th>6</th>\n",
       "      <th>7</th>\n",
       "      <th>8</th>\n",
       "    </tr>\n",
       "  </thead>\n",
       "  <tbody>\n",
       "    <tr>\n",
       "      <th>0</th>\n",
       "      <td>NaN</td>\n",
       "      <td>NaN</td>\n",
       "      <td>收入明细表</td>\n",
       "      <td>NaN</td>\n",
       "      <td>NaN</td>\n",
       "      <td>NaN</td>\n",
       "      <td>NaN</td>\n",
       "      <td>NaN</td>\n",
       "      <td>NaN</td>\n",
       "    </tr>\n",
       "    <tr>\n",
       "      <th>1</th>\n",
       "      <td>NaN</td>\n",
       "      <td>NaN</td>\n",
       "      <td>NaN</td>\n",
       "      <td>NaN</td>\n",
       "      <td>NaN</td>\n",
       "      <td>NaN</td>\n",
       "      <td>NaN</td>\n",
       "      <td>NaN</td>\n",
       "      <td>NaN</td>\n",
       "    </tr>\n",
       "    <tr>\n",
       "      <th>2</th>\n",
       "      <td>NaN</td>\n",
       "      <td>NaN</td>\n",
       "      <td>NaN</td>\n",
       "      <td>NaN</td>\n",
       "      <td>NaN</td>\n",
       "      <td>NaN</td>\n",
       "      <td>NaN</td>\n",
       "      <td>USD</td>\n",
       "      <td>1785223.69</td>\n",
       "    </tr>\n",
       "    <tr>\n",
       "      <th>3</th>\n",
       "      <td>NaN</td>\n",
       "      <td>NaN</td>\n",
       "      <td>NaN</td>\n",
       "      <td>NaN</td>\n",
       "      <td>NaN</td>\n",
       "      <td>NaN</td>\n",
       "      <td>NaN</td>\n",
       "      <td>CNY</td>\n",
       "      <td>15755047.41</td>\n",
       "    </tr>\n",
       "    <tr>\n",
       "      <th>4</th>\n",
       "      <td>NaN</td>\n",
       "      <td>NaN</td>\n",
       "      <td>NaN</td>\n",
       "      <td>NaN</td>\n",
       "      <td>汇率</td>\n",
       "      <td>7.1</td>\n",
       "      <td>收入总计</td>\n",
       "      <td>NaN</td>\n",
       "      <td>28430135.609</td>\n",
       "    </tr>\n",
       "    <tr>\n",
       "      <th>5</th>\n",
       "      <td>索引(年)</td>\n",
       "      <td>索引(月)</td>\n",
       "      <td>日期</td>\n",
       "      <td>收入</td>\n",
       "      <td>NaN</td>\n",
       "      <td>NaN</td>\n",
       "      <td>NaN</td>\n",
       "      <td>账户</td>\n",
       "      <td>备注</td>\n",
       "    </tr>\n",
       "    <tr>\n",
       "      <th>6</th>\n",
       "      <td>NaN</td>\n",
       "      <td>NaN</td>\n",
       "      <td>NaN</td>\n",
       "      <td>科目</td>\n",
       "      <td>明细</td>\n",
       "      <td>币种</td>\n",
       "      <td>收入金额</td>\n",
       "      <td>NaN</td>\n",
       "      <td>NaN</td>\n",
       "    </tr>\n",
       "    <tr>\n",
       "      <th>7</th>\n",
       "      <td>2021</td>\n",
       "      <td>11</td>\n",
       "      <td>2021-11-17 00:00:00</td>\n",
       "      <td>营业外收入</td>\n",
       "      <td>往来款</td>\n",
       "      <td>CNY</td>\n",
       "      <td>300</td>\n",
       "      <td>交通CNY</td>\n",
       "      <td>NaN</td>\n",
       "    </tr>\n",
       "    <tr>\n",
       "      <th>8</th>\n",
       "      <td>2021</td>\n",
       "      <td>11</td>\n",
       "      <td>2021-11-17 00:00:00</td>\n",
       "      <td>营业外收入</td>\n",
       "      <td>往来款</td>\n",
       "      <td>CNY</td>\n",
       "      <td>1</td>\n",
       "      <td>个账CNY</td>\n",
       "      <td>NaN</td>\n",
       "    </tr>\n",
       "    <tr>\n",
       "      <th>9</th>\n",
       "      <td>2021</td>\n",
       "      <td>11</td>\n",
       "      <td>2021-11-17 00:00:00</td>\n",
       "      <td>营业外收入</td>\n",
       "      <td>往来款</td>\n",
       "      <td>CNY</td>\n",
       "      <td>2</td>\n",
       "      <td>个账CNY</td>\n",
       "      <td>NaN</td>\n",
       "    </tr>\n",
       "  </tbody>\n",
       "</table>\n",
       "</div>"
      ]
     },
     "execution_count": 5,
     "metadata": {},
     "output_type": "execute_result"
    }
   ],
   "execution_count": 5
  }
 ],
 "metadata": {
  "kernelspec": {
   "display_name": "Python 3",
   "language": "python",
   "name": "python3"
  },
  "language_info": {
   "codemirror_mode": {
    "name": "ipython",
    "version": 2
   },
   "file_extension": ".py",
   "mimetype": "text/x-python",
   "name": "python",
   "nbconvert_exporter": "python",
   "pygments_lexer": "ipython2",
   "version": "2.7.6"
  }
 },
 "nbformat": 4,
 "nbformat_minor": 5
}
